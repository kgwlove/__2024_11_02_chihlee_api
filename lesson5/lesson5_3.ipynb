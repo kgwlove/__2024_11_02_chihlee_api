{
 "cells": [
  {
   "cell_type": "code",
   "execution_count": 14,
   "metadata": {},
   "outputs": [
    {
     "name": "stdout",
     "output_type": "stream",
     "text": [
      "Banana\n",
      "10\n",
      "==================\n",
      "Apple\n",
      "20\n",
      "==================\n",
      "Cherry\n",
      "30\n",
      "==================\n"
     ]
    }
   ],
   "source": [
    "class Item:\n",
    "    def __init__(self, name:str, price:int):\n",
    "        self.name = name\n",
    "        self.price = price\n",
    "\n",
    "items = [Item(\"Apple\",20),\n",
    "         Item(\"Banana\",10),\n",
    "         Item(\"Cherry\",30)]\n",
    "        \n",
    "def abc(x:Item)->int:\n",
    "    #以price排序\n",
    "    return x.price\n",
    "\n",
    "newItems = sorted(items, key=abc)\n",
    "\n",
    "for item in newItems:\n",
    "    print(item.name)\n",
    "    print(item.price)\n",
    "    print(\"==================\")"
   ]
  },
  {
   "cell_type": "code",
   "execution_count": null,
   "metadata": {},
   "outputs": [],
   "source": [
    "class Item:\n",
    "    def __init__(self, name:str, price:int):\n",
    "        self.name = name\n",
    "        self.price = price\n",
    "\n",
    "items = [Item(\"Apple\",20),\n",
    "         Item(\"Banana\",10),\n",
    "         Item(\"Cherry\",30)]\n",
    "\n",
    "items:list[Item] = [\n",
    "    Item(\"Apple\",20),\n",
    "    Item(\"Banana\",10),\n",
    "    Item(\"Cherry\",30)]\n",
    "        \n",
    "#def abc(x:Item)->int:\n",
    "    #以price排序\n",
    "#    return x.price\n",
    "\n",
    "#匿名的function,lamda的使用\n",
    "newItems = sorted(items, key=lambda x:x.price,reverse=True)\n",
    "for item in newItems:\n",
    "    print(item.name)\n",
    "    print(item.price)\n",
    "    print(\"==================\")\n"
   ]
  },
  {
   "cell_type": "code",
   "execution_count": 29,
   "metadata": {},
   "outputs": [],
   "source": [
    "#dict(dictionary)示範\n",
    "#只有簡單的name, price,不需要建立class,建立dict即可\n",
    "items:list[dict] = [\n",
    "    {\"name\":\"Apple\", \"price\":20},\n",
    "    {\"name\":\"Banana\", \"price\":10},\n",
    "    {\"name\":\"Cherry\", \"price\":30}\n",
    "]"
   ]
  },
  {
   "cell_type": "code",
   "execution_count": 30,
   "metadata": {},
   "outputs": [
    {
     "data": {
      "text/plain": [
       "('Apple', 20)"
      ]
     },
     "execution_count": 30,
     "metadata": {},
     "output_type": "execute_result"
    }
   ],
   "source": [
    "item:dict={\"name\":\"Apple\",\n",
    "           \"price\":20}\n",
    "item['name'],item['price']\n"
   ]
  }
 ],
 "metadata": {
  "kernelspec": {
   "display_name": "base",
   "language": "python",
   "name": "python3"
  },
  "language_info": {
   "codemirror_mode": {
    "name": "ipython",
    "version": 3
   },
   "file_extension": ".py",
   "mimetype": "text/x-python",
   "name": "python",
   "nbconvert_exporter": "python",
   "pygments_lexer": "ipython3",
   "version": "3.12.2"
  }
 },
 "nbformat": 4,
 "nbformat_minor": 2
}
