{
 "cells": [
  {
   "cell_type": "code",
   "execution_count": null,
   "metadata": {},
   "outputs": [
    {
     "data": {
      "text/plain": [
       "([1, 2, 3, 4, 5, 6, 7, 8, 9], list)"
      ]
     },
     "execution_count": 8,
     "metadata": {},
     "output_type": "execute_result"
    }
   ],
   "source": [
    "#list\n",
    "#bracket with []\n",
    "numbers:list = list(range(1,10))\n",
    "numbers,type(numbers)\n"
   ]
  },
  {
   "cell_type": "code",
   "execution_count": null,
   "metadata": {},
   "outputs": [
    {
     "data": {
      "text/plain": [
       "([], list)"
      ]
     },
     "execution_count": 4,
     "metadata": {},
     "output_type": "execute_result"
    }
   ],
   "source": [
    "#tuple, bracket with()\n",
    "numbers1:list = list()\n",
    "numbers1, type(numbers1)"
   ]
  },
  {
   "cell_type": "code",
   "execution_count": 20,
   "metadata": {},
   "outputs": [
    {
     "data": {
      "text/plain": [
       "(1, 10, 100)"
      ]
     },
     "execution_count": 20,
     "metadata": {},
     "output_type": "execute_result"
    }
   ],
   "source": [
    "#assign data to numbers2\n",
    "numbers2 = [1,10,100, 127, 91, 85]\n",
    "#length of numbers, index of length starts with 0\n",
    "numbers2,len(numbers2)\n",
    "#subscript,same as index;write out subscript 0\n",
    "numbers2[0]\n",
    "numbers2[1]\n",
    "numbers2[2]\n",
    "numbers2[0],numbers2[1],numbers2[2]\n",
    "# numbers2[3] not exist, raise error message\n",
    "#numbers2[3]"
   ]
  },
  {
   "cell_type": "code",
   "execution_count": null,
   "metadata": {},
   "outputs": [
    {
     "data": {
      "text/plain": [
       "127"
      ]
     },
     "execution_count": 22,
     "metadata": {},
     "output_type": "execute_result"
    }
   ],
   "source": [
    "#\"search\" maximum number in numbers2\n",
    "max = None\n",
    "for element in numbers2:\n",
    "    if max is None: # \"is None\" =>\n",
    "        max = element\n",
    "    elif max < element:\n",
    "        max = element\n",
    "max    "
   ]
  },
  {
   "cell_type": "code",
   "execution_count": 23,
   "metadata": {},
   "outputs": [
    {
     "data": {
      "text/plain": [
       "127"
      ]
     },
     "execution_count": 23,
     "metadata": {},
     "output_type": "execute_result"
    }
   ],
   "source": [
    "max = numbers2[0]\n",
    "for element in numbers2:\n",
    "    if max < element:\n",
    "        max = element\n",
    "max        "
   ]
  },
  {
   "cell_type": "code",
   "execution_count": null,
   "metadata": {},
   "outputs": [
    {
     "data": {
      "text/plain": [
       "127"
      ]
     },
     "execution_count": 37,
     "metadata": {},
     "output_type": "execute_result"
    }
   ],
   "source": [
    "# max equals to index 0 in numbers2\n",
    "max = numbers2[0]\n",
    "#numbers2 starting from index 1\n",
    "for element in numbers2[1:]:\n",
    "    if max < element:\n",
    "        max = element\n",
    "max        "
   ]
  },
  {
   "cell_type": "code",
   "execution_count": 38,
   "metadata": {},
   "outputs": [
    {
     "data": {
      "text/plain": [
       "([1, 10], [1, 10, 100], [1, 10, 100], [10, 100, 127, 91, 85])"
      ]
     },
     "execution_count": 38,
     "metadata": {},
     "output_type": "execute_result"
    }
   ],
   "source": [
    "#filter out items \n",
    "numbers2 = [1,10,100, 127, 91, 85]\n",
    "numbers2[0:2],numbers2[0:3],numbers2[:3],numbers2[1:]\n"
   ]
  },
  {
   "cell_type": "code",
   "execution_count": null,
   "metadata": {},
   "outputs": [
    {
     "data": {
      "text/plain": [
       "(85, 91, 127)"
      ]
     },
     "execution_count": 35,
     "metadata": {},
     "output_type": "execute_result"
    }
   ],
   "source": [
    "#filter out last 3 items\n",
    "numbers2 = [1,10,100, 127, 91, 85]\n",
    "numbers2[-1], numbers2[-2], numbers2[-3]"
   ]
  }
 ],
 "metadata": {
  "kernelspec": {
   "display_name": "base",
   "language": "python",
   "name": "python3"
  },
  "language_info": {
   "codemirror_mode": {
    "name": "ipython",
    "version": 3
   },
   "file_extension": ".py",
   "mimetype": "text/x-python",
   "name": "python",
   "nbconvert_exporter": "python",
   "pygments_lexer": "ipython3",
   "version": "3.12.2"
  }
 },
 "nbformat": 4,
 "nbformat_minor": 2
}
