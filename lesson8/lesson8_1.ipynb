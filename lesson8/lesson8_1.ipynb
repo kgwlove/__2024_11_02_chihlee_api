{
 "cells": [
  {
   "cell_type": "code",
   "execution_count": 1,
   "metadata": {},
   "outputs": [],
   "source": [
    "codes = {'tw':'Taiwan','us': 'United States', 'cn' : 'China'}"
   ]
  },
  {
   "cell_type": "code",
   "execution_count": 2,
   "metadata": {},
   "outputs": [
    {
     "ename": "NameError",
     "evalue": "name 'tw' is not defined",
     "output_type": "error",
     "traceback": [
      "\u001b[0;31m---------------------------------------------------------------------------\u001b[0m",
      "\u001b[0;31mNameError\u001b[0m                                 Traceback (most recent call last)",
      "Cell \u001b[0;32mIn[2], line 1\u001b[0m\n\u001b[0;32m----> 1\u001b[0m \u001b[43mtw\u001b[49m \u001b[38;5;129;01min\u001b[39;00m codes\n\u001b[1;32m      2\u001b[0m jp \u001b[38;5;129;01min\u001b[39;00m codes\n",
      "\u001b[0;31mNameError\u001b[0m: name 'tw' is not defined"
     ]
    }
   ],
   "source": [
    "tw in codes\n",
    "jp in codes"
   ]
  }
 ],
 "metadata": {
  "kernelspec": {
   "display_name": "base",
   "language": "python",
   "name": "python3"
  },
  "language_info": {
   "codemirror_mode": {
    "name": "ipython",
    "version": 3
   },
   "file_extension": ".py",
   "mimetype": "text/x-python",
   "name": "python",
   "nbconvert_exporter": "python",
   "pygments_lexer": "ipython3",
   "version": "3.12.2"
  }
 },
 "nbformat": 4,
 "nbformat_minor": 2
}
