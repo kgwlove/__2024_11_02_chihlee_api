{
 "cells": [
  {
   "cell_type": "code",
   "execution_count": null,
   "metadata": {},
   "outputs": [],
   "source": [
    "#建立class\n",
    "class Person(object):\n",
    "    #init初始化。\n",
    "    def __init__(self,name:str,age:int): #self可以省略\n",
    "        self.name = name #attribute\n",
    "        self.age = age #attribute\n",
    "        \n",
    "    #實體方法 instance method。把self傳入echo\n",
    "    def echo(self):\n",
    "        print (f'我的名字是:{self.name}')\n",
    "        print (f'我的年紀是:{self.age}')"
   ]
  },
  {
   "cell_type": "code",
   "execution_count": 21,
   "metadata": {},
   "outputs": [
    {
     "name": "stdout",
     "output_type": "stream",
     "text": [
      "我的名字是:小k\n",
      "我的年紀是:4\n"
     ]
    },
    {
     "data": {
      "text/plain": [
       "__main__.Person"
      ]
     },
     "execution_count": 21,
     "metadata": {},
     "output_type": "execute_result"
    }
   ],
   "source": [
    "#Person('小k',age=4)=>只有初始,還未指定p1來控制它\n",
    "#以p1來控制這個Person('小k',age=4)這個實體\n",
    "p1 = Person('小k',age=4)\n",
    "p1.echo()\n",
    "type(p1)\n",
    "#print(p1.name)\n",
    "#print(p1.age)"
   ]
  },
  {
   "cell_type": "code",
   "execution_count": 22,
   "metadata": {},
   "outputs": [
    {
     "name": "stdout",
     "output_type": "stream",
     "text": [
      "我的名字是:wolf\n",
      "我的年紀是:3\n"
     ]
    }
   ],
   "source": [
    "#第二個實體給予不同的attribute的值\n",
    "#以p2來控制\n",
    "p2 = Person(name='wolf',age=3)\n",
    "type(p2)\n",
    "p2.echo()\n",
    "#print(p2.name)\n",
    "#print(p2.age)"
   ]
  }
 ],
 "metadata": {
  "kernelspec": {
   "display_name": "base",
   "language": "python",
   "name": "python3"
  },
  "language_info": {
   "codemirror_mode": {
    "name": "ipython",
    "version": 3
   },
   "file_extension": ".py",
   "mimetype": "text/x-python",
   "name": "python",
   "nbconvert_exporter": "python",
   "pygments_lexer": "ipython3",
   "version": "3.12.2"
  }
 },
 "nbformat": 4,
 "nbformat_minor": 2
}
