{
 "cells": [
  {
   "cell_type": "code",
   "execution_count": 13,
   "metadata": {},
   "outputs": [],
   "source": [
    "#建立class. 自訂時一般第一個字大寫\n",
    "#Person繼承object\n",
    "class Person:\n",
    "    #init初始化。\n",
    "    def __init__(self,name:str,age:int): #self可以省略\n",
    "        self.name = name #attribute\n",
    "        self.age = age #attribute\n",
    "        \n",
    "    #實體方法 instance method。把self傳入echo\n",
    "    def echo(self):\n",
    "        print (f'我的名字是:{self.name}')\n",
    "        print (f'我的年紀是:{self.age}')"
   ]
  },
  {
   "cell_type": "code",
   "execution_count": 11,
   "metadata": {},
   "outputs": [],
   "source": [
    "#Student class繼承Person\n",
    "class Student(Person): \n",
    "    pass"
   ]
  },
  {
   "cell_type": "code",
   "execution_count": 16,
   "metadata": {},
   "outputs": [
    {
     "name": "stdout",
     "output_type": "stream",
     "text": [
      "我的名字是:小k\n",
      "我的年紀是:4\n"
     ]
    }
   ],
   "source": [
    "s1:Student = Student('小k',age=4)\n",
    "s1.echo()"
   ]
  }
 ],
 "metadata": {
  "kernelspec": {
   "display_name": "base",
   "language": "python",
   "name": "python3"
  },
  "language_info": {
   "codemirror_mode": {
    "name": "ipython",
    "version": 3
   },
   "file_extension": ".py",
   "mimetype": "text/x-python",
   "name": "python",
   "nbconvert_exporter": "python",
   "pygments_lexer": "ipython3",
   "version": "3.12.2"
  }
 },
 "nbformat": 4,
 "nbformat_minor": 2
}
