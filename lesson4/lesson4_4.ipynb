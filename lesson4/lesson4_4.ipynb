{
 "cells": [
  {
   "cell_type": "code",
   "execution_count": 19,
   "metadata": {},
   "outputs": [],
   "source": [
    "#建立class. 自訂時一般第一個字大寫\n",
    "#Person繼承object\n",
    "class Person:\n",
    "    #init初始化。\n",
    "    def __init__(self,name:str,age:int): #self可以省略\n",
    "        self.name = name #attribute\n",
    "        self.age = age #attribute\n",
    "        \n",
    "    #實體方法 instance method。把self傳入echo\n",
    "    def echo(self):\n",
    "        print (f'我的名字是:{self.name}')\n",
    "        print (f'我的年紀是:{self.age}')"
   ]
  },
  {
   "cell_type": "code",
   "execution_count": null,
   "metadata": {},
   "outputs": [],
   "source": [
    "#Student class繼承Person\n",
    "class Student(Person): \n",
    "    def __init__(self,name:str,age:int,score:int):\n",
    "        #初始化副類別Person name-name,第一個是引數名稱,第二個是引數值\n",
    "        super().__init__(name=name,age=age) \n",
    "        self.__score = score #\"__\" 意思是private\n",
    "\n",
    "    @property #property一般只能讀。用來防止改score的值\n",
    "    def score(self)->int: #只能傳出值,不能傳入\n",
    "        return self.__score\n",
    "\n",
    "    def echo(self): #overwrite 覆蓋掉上面Person的echo()\n",
    "        #執行副類別Person的echo\n",
    "        super().echo()\n",
    "        print (f'我分數是:{self.score}')\n"
   ]
  },
  {
   "cell_type": "code",
   "execution_count": 42,
   "metadata": {},
   "outputs": [
    {
     "name": "stdout",
     "output_type": "stream",
     "text": [
      "我的名字是:小k\n",
      "我的年紀是:4\n",
      "我分數是:240\n"
     ]
    }
   ],
   "source": [
    "s1:Student = Student('小k',age=4,score=240)\n",
    "s1.score  #因為是property,跟屬性一樣不用寫()\n",
    "s1.echo()"
   ]
  }
 ],
 "metadata": {
  "kernelspec": {
   "display_name": "base",
   "language": "python",
   "name": "python3"
  },
  "language_info": {
   "codemirror_mode": {
    "name": "ipython",
    "version": 3
   },
   "file_extension": ".py",
   "mimetype": "text/x-python",
   "name": "python",
   "nbconvert_exporter": "python",
   "pygments_lexer": "ipython3",
   "version": "3.12.2"
  }
 },
 "nbformat": 4,
 "nbformat_minor": 2
}
