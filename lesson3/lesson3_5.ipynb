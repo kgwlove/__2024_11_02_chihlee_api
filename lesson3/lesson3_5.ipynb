{
 "cells": [
  {
   "cell_type": "code",
   "execution_count": null,
   "metadata": {},
   "outputs": [],
   "source": [
    "#typehint\n",
    "#變數,參數,returntype\n",
    "i:int = 10\n"
   ]
  },
  {
   "cell_type": "code",
   "execution_count": null,
   "metadata": {},
   "outputs": [],
   "source": [
    "#python是Firlst Class程式語言\n",
    "#Function也有型別\n",
    "#變數可以儲存Function\n",
    "#Function可以當作參數\n",
    "#Function可以當作傳出值"
   ]
  },
  {
   "cell_type": "code",
   "execution_count": 1,
   "metadata": {},
   "outputs": [
    {
     "data": {
      "text/plain": [
       "19"
      ]
     },
     "execution_count": 1,
     "metadata": {},
     "output_type": "execute_result"
    }
   ],
   "source": [
    "from typing import Callable\n",
    "\n",
    "MyFunction = Callable[[int,int],int]\n",
    "def add(a:int,b:int) -> int:\n",
    "    return a +b \n",
    "\n",
    "myfun:MyFunction= add\n",
    "\n",
    "myfun(9,10)"
   ]
  },
  {
   "cell_type": "code",
   "execution_count": null,
   "metadata": {},
   "outputs": [
    {
     "name": "stdout",
     "output_type": "stream",
     "text": [
      "function開始\n",
      "你好:robert\n",
      "function結束\n"
     ]
    }
   ],
   "source": [
    "#decorator的功能\n",
    "#修飾\n",
    "def decorator_function(original_function):\n",
    "    def wrapper_function():\n",
    "        print(\"function開始\")\n",
    "        original_function()        \n",
    "        print('function結束')\n",
    "    return wrapper_function    \n",
    "\n",
    "def say_hello():\n",
    "    print(\"你好:robert\")\n",
    "newFunction = decorator_function(say_hello)\n",
    "newFunction()"
   ]
  },
  {
   "cell_type": "code",
   "execution_count": 4,
   "metadata": {},
   "outputs": [
    {
     "name": "stdout",
     "output_type": "stream",
     "text": [
      "function開始\n",
      "你好:robert\n",
      "function結束\n"
     ]
    }
   ],
   "source": [
    "@decorator_function\n",
    "def abc():\n",
    "    print(\"你好:robert\")\n",
    "\n",
    "abc()\n"
   ]
  },
  {
   "cell_type": "code",
   "execution_count": 6,
   "metadata": {},
   "outputs": [
    {
     "name": "stdout",
     "output_type": "stream",
     "text": [
      "您的身高=157.0cm,您的體重=57.0kg\n",
      "BMI=23.12,屬於正常範圍\n"
     ]
    }
   ],
   "source": [
    "#要求輸入身高,體重\n",
    "#檢查格式是否錯誤\n",
    "#計算出BMI,print\n",
    "\n",
    "def bmiequ(weight, height):\n",
    "    #BMI僅留小數點兩位\n",
    "    bmi=round(weight/((height/100)**2), 2)\n",
    "    if bmi<18.5:\n",
    "        Wstate='體重過輕'\n",
    "    elif bmi<24:\n",
    "        Wstate='正常範圍'\n",
    "    elif bmi<27:\n",
    "        Wstate='異常範圍:過重'\n",
    "    elif bmi<30:\n",
    "        Wstate='異常範圍:輕度肥胖'\n",
    "    elif bmi<35:\n",
    "        Wstate='異常範圍:中度肥胖'      \n",
    "    else:\n",
    "        Wstate='異常範圍:重度肥胖'\n",
    "    print(f'您的身高={str(height)}cm,您的體重={weight}kg')            \n",
    "    print(f'BMI={bmi},屬於{Wstate}')  \n",
    "\n",
    "try:\n",
    "    height = float(input('輸入身高cm:'))\n",
    "except Exception:\n",
    "    print('輸入格式錯誤')\n",
    "else:\n",
    "    try:\n",
    "        weight = float(input('輸入體重kg:'))\n",
    "    except Exception:\n",
    "        print('輸入格式錯誤')\n",
    "    else:\n",
    "        bmiequ(weight,height)"
   ]
  }
 ],
 "metadata": {
  "kernelspec": {
   "display_name": "base",
   "language": "python",
   "name": "python3"
  },
  "language_info": {
   "codemirror_mode": {
    "name": "ipython",
    "version": 3
   },
   "file_extension": ".py",
   "mimetype": "text/x-python",
   "name": "python",
   "nbconvert_exporter": "python",
   "pygments_lexer": "ipython3",
   "version": "3.12.3"
  }
 },
 "nbformat": 4,
 "nbformat_minor": 2
}
