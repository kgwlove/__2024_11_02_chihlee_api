{
 "cells": [
  {
   "cell_type": "code",
   "execution_count": 2,
   "metadata": {},
   "outputs": [
    {
     "name": "stdout",
     "output_type": "stream",
     "text": [
      "您的身高=150.0cm,您的體重=54.0kg\n",
      "BMI=24.0,屬於異常範圍:過重\n"
     ]
    }
   ],
   "source": [
    "#要求輸入身高,體重\n",
    "#檢查格式是否錯誤\n",
    "#計算出BMI,print\n",
    "\n",
    "try:\n",
    "    height = float(input('輸入身高cm:'))\n",
    "except Exception:\n",
    "    print('輸入格式錯誤')\n",
    "else:\n",
    "    try:\n",
    "        weight = float(input('輸入體重kg:'))\n",
    "    except Exception:\n",
    "        print('輸入格式錯誤')\n",
    "    else:\n",
    "        #BMI僅留小數點兩位\n",
    "        bmi=round(weight/((height/100)**2), 2)\n",
    "        if bmi<18.5:\n",
    "            Wstate='體重過輕'\n",
    "        elif bmi<24:\n",
    "            Wstate='正常範圍'\n",
    "        elif bmi<27:\n",
    "            Wstate='異常範圍:過重'\n",
    "        elif bmi<30:\n",
    "            Wstate='異常範圍:輕度肥胖'\n",
    "        elif bmi<35:\n",
    "            Wstate='異常範圍:中度肥胖'      \n",
    "        else:\n",
    "            Wstate='異常範圍:重度肥胖'\n",
    "print(f'您的身高={str(height)}cm,您的體重={weight}kg')            \n",
    "print(f'BMI={bmi},屬於{Wstate}')            "
   ]
  }
 ],
 "metadata": {
  "kernelspec": {
   "display_name": "base",
   "language": "python",
   "name": "python3"
  },
  "language_info": {
   "codemirror_mode": {
    "name": "ipython",
    "version": 3
   },
   "file_extension": ".py",
   "mimetype": "text/x-python",
   "name": "python",
   "nbconvert_exporter": "python",
   "pygments_lexer": "ipython3",
   "version": "3.11.7"
  }
 },
 "nbformat": 4,
 "nbformat_minor": 2
}
