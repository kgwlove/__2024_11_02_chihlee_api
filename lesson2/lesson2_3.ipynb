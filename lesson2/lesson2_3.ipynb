{
 "cells": [
  {
   "cell_type": "code",
   "execution_count": 5,
   "metadata": {},
   "outputs": [
    {
     "name": "stdout",
     "output_type": "stream",
     "text": [
      "學生的分數是:262.5分\n",
      "學生的分數是:262.5分\n",
      "應用程式結束\n"
     ]
    }
   ],
   "source": [
    "#學生總分為300\n",
    "#有些學生可以加分5%\n",
    "#如果加分超過300,就以300分為準\n",
    "try:\n",
    "    #錯誤的寫法\n",
    "    scores = int(input('請輸入學生分數(最高300分)'))\n",
    "except Exception:    \n",
    "    print(\"發生錯誤\") \n",
    "else:        \n",
    "    is_add = input('學生是否符合加分條件?(y,n)')\n",
    "\n",
    "    if is_add == 'y':\n",
    "        scores = scores * 1.05\n",
    "        if scores > 300:\n",
    "            scores = 300\n",
    "\n",
    "    print(\"學生的分數是:\"+ str(scores) + \"分\")\n",
    "    print(f'學生的分數是:{scores}分')\n",
    "    \n",
    "print(\"應用程式結束\")"
   ]
  },
  {
   "cell_type": "code",
   "execution_count": null,
   "metadata": {},
   "outputs": [],
   "source": [
    "#60分以下不及格\n",
    "#60-90分及格\n",
    "#90分以上特優(>=90)\n",
    "scores = int(input('請輸入學生分數'))\n",
    "if scores>=90:\n",
    "    print('特優')\n",
    "else:\n",
    "    if scores >=60:\n",
    "        print('及格')    \n",
    "    else:\n",
    "        print('不及格')\n"
   ]
  },
  {
   "cell_type": "code",
   "execution_count": null,
   "metadata": {},
   "outputs": [
    {
     "name": "stdout",
     "output_type": "stream",
     "text": [
      "不及格\n"
     ]
    }
   ],
   "source": [
    "#60分以下不及格\n",
    "#60-90分及格\n",
    "#90分以上特優(>=90)\n",
    "#以下三個狀況只會執行一個\n",
    "scores = int(input('請輸入學生分數'))\n",
    "if scores>=90:\n",
    "    print('特優')\n",
    "elif scores >=60:\n",
    "    print('及格')    \n",
    "else:\n",
    "    print('不及格')\n"
   ]
  },
  {
   "cell_type": "code",
   "execution_count": null,
   "metadata": {},
   "outputs": [
    {
     "name": "stdout",
     "output_type": "stream",
     "text": [
      "丁\n"
     ]
    }
   ],
   "source": [
    "#以下五個只會執行一個\n",
    "scores = int(input('請輸入學生分數'))\n",
    "if scores >= 90:\n",
    "    print(\"優\")\n",
    "elif scores >=80:\n",
    "    print('甲')    \n",
    "elif scores >=70:\n",
    "    print('乙')  \n",
    "elif scores >=60:\n",
    "    print('丙')  \n",
    "else:\n",
    "    print('丁')          "
   ]
  },
  {
   "cell_type": "code",
   "execution_count": 43,
   "metadata": {},
   "outputs": [
    {
     "name": "stdout",
     "output_type": "stream",
     "text": [
      "您的身高=-9.0cm,您的體重=56.0kg\n",
      "BMI=6913.58,屬於異常範圍:重度肥胖\n"
     ]
    }
   ],
   "source": [
    "#要求輸入身高,體重\n",
    "#檢查格式是否錯誤\n",
    "#計算出BMI,print\n",
    "\n",
    "try:\n",
    "    height = float(input('輸入身高cm:'))\n",
    "except Exception:\n",
    "    print('輸入格式錯誤')\n",
    "else:\n",
    "    try:\n",
    "        weight = float(input('輸入體重kg:'))\n",
    "    except Exception:\n",
    "        print('輸入格式錯誤')\n",
    "    else:\n",
    "        #BMI僅留小數點兩位\n",
    "        bmi=round(weight/((height/100)**2), 2)\n",
    "        if bmi<18.5:\n",
    "            Wstate='體重過輕'\n",
    "        elif bmi<24:\n",
    "            Wstate='正常範圍'\n",
    "        elif bmi<27:\n",
    "            Wstate='異常範圍:過重'\n",
    "        elif bmi<30:\n",
    "            Wstate='異常範圍:輕度肥胖'\n",
    "        elif bmi<35:\n",
    "            Wstate='異常範圍:中度肥胖'      \n",
    "        else:\n",
    "            Wstate='異常範圍:重度肥胖'\n",
    "print(f'您的身高={str(height)}cm,您的體重={weight}kg')            \n",
    "print(f'BMI={bmi},屬於{Wstate}')            "
   ]
  },
  {
   "cell_type": "code",
   "execution_count": 13,
   "metadata": {},
   "outputs": [
    {
     "name": "stdout",
     "output_type": "stream",
     "text": [
      "獎金:0元\n"
     ]
    }
   ],
   "source": [
    "#巢狀判斷\n",
    "#國文且數學100分，獎金1000\n",
    "#國文或數學100分，獎金\n",
    "#不然0\n",
    "\n",
    "chinese = int(input('輸入國文分數'))\n",
    "math = int(input('輸入數學分數'))\n",
    "\n",
    "if chinese == 100:\n",
    "    if math == 100:\n",
    "        bonus =1000\n",
    "    else:\n",
    "        bonus =500\n",
    "elif math ==100:\n",
    "        bonus = 500\n",
    "else:\n",
    "    bonus = 0    \n",
    "print(f'獎金:{bonus}元')        \n"
   ]
  },
  {
   "cell_type": "code",
   "execution_count": 2,
   "metadata": {},
   "outputs": [
    {
     "name": "stdout",
     "output_type": "stream",
     "text": [
      "獎金:1000元\n"
     ]
    }
   ],
   "source": [
    "#巢狀判斷\n",
    "#國文且數學100分，獎金1000\n",
    "#國文或數學100分，獎金\n",
    "#不然0\n",
    "\n",
    "chinese = int(input('輸入國文分數'))\n",
    "math = int(input('輸入數學分數'))\n",
    "\n",
    "if chinese == 100 and math==100:\n",
    "    bonus =1000\n",
    "elif chinese==100 or math ==100:\n",
    "    bonus =500 \n",
    "else:\n",
    "    bonus = 0 \n",
    "   \n",
    "print(f'獎金:{bonus}元')        \n"
   ]
  }
 ],
 "metadata": {
  "kernelspec": {
   "display_name": "base",
   "language": "python",
   "name": "python3"
  },
  "language_info": {
   "codemirror_mode": {
    "name": "ipython",
    "version": 3
   },
   "file_extension": ".py",
   "mimetype": "text/x-python",
   "name": "python",
   "nbconvert_exporter": "python",
   "pygments_lexer": "ipython3",
   "version": "3.12.3"
  }
 },
 "nbformat": 4,
 "nbformat_minor": 2
}
