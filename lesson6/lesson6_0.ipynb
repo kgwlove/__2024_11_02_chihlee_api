{
 "cells": [
  {
   "cell_type": "code",
   "execution_count": 7,
   "metadata": {},
   "outputs": [
    {
     "name": "stdout",
     "output_type": "stream",
     "text": [
      "本期大樂透電腦選號號碼如下:\n",
      "1 12 18 20 23 27 9 \n",
      "特別號:9\n"
     ]
    }
   ],
   "source": [
    "import random\n",
    "\n",
    "def main(): #main主程式 \n",
    "    set1:set = set() #type hint, set內元素不能重複\n",
    "    #mysetlist:list =[] #type hint\n",
    "\n",
    "    while len(set1) < 7:  #while沒有記憶體區塊\n",
    "        myrandNum=random.randint(1,49)\n",
    "        set1.add(myrandNum)\n",
    "        if len(set1) == 7:\n",
    "            SpecialNum = myrandNum\n",
    "            set1.remove(SpecialNum) #移除特別號\n",
    "            mysetlist = sorted(set1) #6個號碼排序\n",
    "            break\n",
    "\n",
    "    mysetlist.append(SpecialNum)\n",
    "    \n",
    "    print(\"本期大樂透電腦選號號碼如下:\")\n",
    "    for num in mysetlist:\n",
    "        print(num,end=\" \")\n",
    "    print()\n",
    "    print(f\"特別號:{SpecialNum}\")        \n",
    "\n",
    "if __name__ == '__main__':\n",
    "    main()   "
   ]
  }
 ],
 "metadata": {
  "kernelspec": {
   "display_name": "base",
   "language": "python",
   "name": "python3"
  },
  "language_info": {
   "codemirror_mode": {
    "name": "ipython",
    "version": 3
   },
   "file_extension": ".py",
   "mimetype": "text/x-python",
   "name": "python",
   "nbconvert_exporter": "python",
   "pygments_lexer": "ipython3",
   "version": "3.12.2"
  }
 },
 "nbformat": 4,
 "nbformat_minor": 2
}
