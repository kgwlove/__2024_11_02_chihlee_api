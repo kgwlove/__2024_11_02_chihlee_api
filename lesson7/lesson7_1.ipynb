{
 "cells": [
  {
   "cell_type": "code",
   "execution_count": 12,
   "metadata": {},
   "outputs": [
    {
     "name": "stdout",
     "output_type": "stream",
     "text": [
      "下載成功\n",
      "<class 'str'>\n"
     ]
    }
   ],
   "source": [
    "import requests\n",
    "from requests import Response\n",
    "url =\"https://data.ntpc.gov.tw/api/datasets/010e5b15-3823-4b20-b401-b1cf000550c5/csv?page=0&size=1000\"\n",
    "\n",
    "#r = requests.get(url)\n",
    "\n",
    "r:Response = requests.request('GET' , url)\n",
    "if r.status_code == 200:\n",
    "    print(\"下載成功\")\n",
    "else:\n",
    "    print(\"下載有問題\")\n",
    "\n",
    "print (type(r.text)) #text是str字串\n"
   ]
  },
  {
   "cell_type": "code",
   "execution_count": null,
   "metadata": {},
   "outputs": [],
   "source": [
    "print (type(r.text)) #text是str字串\n"
   ]
  },
  {
   "cell_type": "code",
   "execution_count": 50,
   "metadata": {},
   "outputs": [
    {
     "data": {
      "text/plain": [
       "<_io.StringIO at 0x7f8fc1e0f7c0>"
      ]
     },
     "execution_count": 50,
     "metadata": {},
     "output_type": "execute_result"
    }
   ],
   "source": [
    "from io import StringIO\n",
    "file = StringIO(r.text) #文字已經存到file內\n",
    "file"
   ]
  },
  {
   "cell_type": "code",
   "execution_count": 51,
   "metadata": {},
   "outputs": [],
   "source": [
    "from csv import DictReader\n",
    "reader = DictReader(file) #Generator實體 讀一次記憶體就會釋放\n",
    "list_reader:list[dict] = list(reader) #轉為list, 記憶體資料保留\n",
    "#list_reader"
   ]
  },
  {
   "cell_type": "code",
   "execution_count": null,
   "metadata": {},
   "outputs": [],
   "source": [
    "for row in list_reader:\n",
    "    print (row)"
   ]
  },
  {
   "cell_type": "code",
   "execution_count": null,
   "metadata": {},
   "outputs": [
    {
     "name": "stdout",
     "output_type": "stream",
     "text": [
      "下載成功\n"
     ]
    }
   ],
   "source": [
    "#建立GET網站資料可能出現錯誤，處理模式\n",
    "import requests\n",
    "from requests import Response\n",
    "from requests.exceptions import RequestException,HTTPError\n",
    "url = 'https://data.ntpc.gov.tw/api/datasets/010e5b15-3823-4b20-b401-b1cf000550c5/csv?page=0&size=1000'\n",
    "\n",
    "try:\n",
    "    r:Response = requests.request('GET',url)\n",
    "    r.raise_for_status()   \n",
    "except HTTPError as e:\n",
    "    print(e)\n",
    "except RequestException as e:\n",
    "    print(e)\n",
    "else:\n",
    "    print(\"下載成功\") #try下方兩行執行都沒有出現錯誤，則執行這一行"
   ]
  }
 ],
 "metadata": {
  "kernelspec": {
   "display_name": "base",
   "language": "python",
   "name": "python3"
  },
  "language_info": {
   "codemirror_mode": {
    "name": "ipython",
    "version": 3
   },
   "file_extension": ".py",
   "mimetype": "text/x-python",
   "name": "python",
   "nbconvert_exporter": "python",
   "pygments_lexer": "ipython3",
   "version": "3.12.7"
  }
 },
 "nbformat": 4,
 "nbformat_minor": 2
}
